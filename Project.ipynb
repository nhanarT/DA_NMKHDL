{
 "cells": [
  {
   "cell_type": "markdown",
   "metadata": {},
   "source": [
    "# Đồ án cuối kỳ NMKHDL 18-21\n",
    "Thành viên nhóm:\n",
    "\n",
    "- Vương Gia Bảo - MSSV: 18120009\n",
    "    \n",
    "- Du Chí Nhân - MSSV: 18120492"
   ]
  },
  {
   "cell_type": "markdown",
   "metadata": {},
   "source": [
    "## Khai báo thư viện sử dụng trong đồ án"
   ]
  },
  {
   "cell_type": "code",
   "execution_count": 1,
   "metadata": {},
   "outputs": [],
   "source": [
    "import numpy as np\n",
    "import pandas as pd\n",
    "from sklearn.base import BaseEstimator, TransformerMixin\n",
    "from sklearn.neural_network import MLPClassifier\n",
    "from sklearn.preprocessing import StandardScaler\n",
    "from sklearn.model_selection import train_test_split\n",
    "from sklearn.pipeline import make_pipeline\n",
    "\n",
    "%matplotlib inline"
   ]
  },
  {
   "cell_type": "markdown",
   "metadata": {},
   "source": [
    "## Thông tin về bộ dữ liệu"
   ]
  },
  {
   "cell_type": "markdown",
   "metadata": {},
   "source": [
    "Dữ liệu được thu thập từ đường link: https://www.eia.gov/opendata/qb.php?category=241335&sdid=PET.RWTC.W\n",
    "\n",
    "\n",
    "Đây là bộ dữ liệu về giá trị WTI được ghi nhận theo từng tuần bắt đầu từ ngày 03/01/1986 cho đến nay của Cơ quan quản lý thông tin năng lượng Mỹ. \n",
    "\n",
    "\n",
    "Về chỉ số WTI (West Texas Intermediate), là một loại dầu thô được sử dụng mức chuẩn trong giá dầu, đây là một loại hàng hóa cơ bản của các hợp đồng tương lai dầu của sàn giao dịch hàng hóa New York (Theo wikipedia).\n",
    "\n",
    "\n",
    "Ở đây có hướng dẫn sử dụng API để thu thập dữ liệu. Để thu thập dữ liệu, ta cần phải đăng ký API key, sau đó sử dụng key vừa đăng ký để lấy dữ liệu, bằng cách nhập API key vào file `apikey.txt` tự tạo sau đó bỏ comment 2 cell code bên dưới và chạy thử, bên dưới là đoạn code dùng để thu thập dữ liệu:"
   ]
  },
  {
   "cell_type": "code",
   "execution_count": 2,
   "metadata": {},
   "outputs": [],
   "source": [
    "# import requests\n",
    "# import json\n",
    "# with open('apikey.txt','r') as f:\n",
    "#     api_key=f.read()\n",
    "# url ='http://api.eia.gov/series/?api_key={}&series_id=PET.RWTC.W'.format(api_key)\n",
    "\n",
    "# rq = requests.get(url)\n",
    "# text = rq.text\n",
    "\n",
    "# data=json.loads(text)"
   ]
  },
  {
   "cell_type": "code",
   "execution_count": 6,
   "metadata": {},
   "outputs": [],
   "source": [
    "# df = pd.DataFrame(data['series'][0]['data'],columns=['period','value'])\n",
    "# df.set_index('period', inplace=True)\n",
    "# df.index = pd.to_datetime(df.index,format='%Y%m%d')\n",
    "# df.sort_index(inplace=True)\n",
    "# df.head()"
   ]
  },
  {
   "cell_type": "markdown",
   "metadata": {},
   "source": [
    "Ngoài ra để thuận tiện hơn, dữ liệu thu thập được đã được chuyển sang dạng file csv ở file `data.csv` được đính kèm cùng với file notebook này."
   ]
  },
  {
   "cell_type": "markdown",
   "metadata": {},
   "source": [
    "## Khám phá dữ liệu (Để xác định câu hỏi)"
   ]
  },
  {
   "cell_type": "code",
   "execution_count": 3,
   "metadata": {},
   "outputs": [
    {
     "data": {
      "text/html": [
       "<div>\n",
       "<style scoped>\n",
       "    .dataframe tbody tr th:only-of-type {\n",
       "        vertical-align: middle;\n",
       "    }\n",
       "\n",
       "    .dataframe tbody tr th {\n",
       "        vertical-align: top;\n",
       "    }\n",
       "\n",
       "    .dataframe thead th {\n",
       "        text-align: right;\n",
       "    }\n",
       "</style>\n",
       "<table border=\"1\" class=\"dataframe\">\n",
       "  <thead>\n",
       "    <tr style=\"text-align: right;\">\n",
       "      <th></th>\n",
       "      <th>value</th>\n",
       "    </tr>\n",
       "    <tr>\n",
       "      <th>period</th>\n",
       "      <th></th>\n",
       "    </tr>\n",
       "  </thead>\n",
       "  <tbody>\n",
       "    <tr>\n",
       "      <th>1986-01-03</th>\n",
       "      <td>25.78</td>\n",
       "    </tr>\n",
       "    <tr>\n",
       "      <th>1986-01-10</th>\n",
       "      <td>25.99</td>\n",
       "    </tr>\n",
       "    <tr>\n",
       "      <th>1986-01-17</th>\n",
       "      <td>24.57</td>\n",
       "    </tr>\n",
       "    <tr>\n",
       "      <th>1986-01-24</th>\n",
       "      <td>20.31</td>\n",
       "    </tr>\n",
       "    <tr>\n",
       "      <th>1986-01-31</th>\n",
       "      <td>19.69</td>\n",
       "    </tr>\n",
       "  </tbody>\n",
       "</table>\n",
       "</div>"
      ],
      "text/plain": [
       "            value\n",
       "period           \n",
       "1986-01-03  25.78\n",
       "1986-01-10  25.99\n",
       "1986-01-17  24.57\n",
       "1986-01-24  20.31\n",
       "1986-01-31  19.69"
      ]
     },
     "execution_count": 3,
     "metadata": {},
     "output_type": "execute_result"
    }
   ],
   "source": [
    "df = pd.read_csv('data.csv',index_col='period')\n",
    "df.index = pd.to_datetime(df.index)\n",
    "df.head()"
   ]
  },
  {
   "cell_type": "markdown",
   "metadata": {},
   "source": [
    "### Dữ liệu có bao nhiêu dòng và cột?"
   ]
  },
  {
   "cell_type": "code",
   "execution_count": 4,
   "metadata": {},
   "outputs": [
    {
     "data": {
      "text/plain": [
       "(1827, 1)"
      ]
     },
     "execution_count": 4,
     "metadata": {},
     "output_type": "execute_result"
    }
   ],
   "source": [
    "df.shape"
   ]
  },
  {
   "cell_type": "markdown",
   "metadata": {},
   "source": [
    "### Mỗi dòng của dữ liệu có ý nghĩa gì? Có vấn đề các dòng có ý nghĩa khác nhau không?"
   ]
  },
  {
   "cell_type": "markdown",
   "metadata": {},
   "source": [
    "Mỗi dòng dữ liệu là một bản ghi về giá trị WTI của 1 tuần nhất định và đơn vị được tính ở đây là Dollars per Barrel (Đô la/thùng)."
   ]
  },
  {
   "cell_type": "code",
   "execution_count": 5,
   "metadata": {},
   "outputs": [
    {
     "data": {
      "text/plain": [
       "value    float64\n",
       "dtype: object"
      ]
     },
     "execution_count": 5,
     "metadata": {},
     "output_type": "execute_result"
    }
   ],
   "source": [
    "df.dtypes"
   ]
  },
  {
   "cell_type": "code",
   "execution_count": 6,
   "metadata": {},
   "outputs": [
    {
     "data": {
      "text/plain": [
       "value    0\n",
       "dtype: int64"
      ]
     },
     "execution_count": 6,
     "metadata": {},
     "output_type": "execute_result"
    }
   ],
   "source": [
    "df.isna().sum()"
   ]
  },
  {
   "cell_type": "markdown",
   "metadata": {},
   "source": [
    "Tất cả các dòng của cột value đều nhận kiểu giá trị `float64`, vậy không có dòng nào có ý nghĩa khác nhau.\n",
    "\n",
    "Ngoài ra, dữ liệu không có dòng nào bị thiếu hay mất dữ liệu."
   ]
  },
  {
   "cell_type": "markdown",
   "metadata": {},
   "source": [
    "### Dữ liệu có các dòng bị trùng nhau không?"
   ]
  },
  {
   "cell_type": "markdown",
   "metadata": {},
   "source": [
    "Do đây là dữ liệu về giá trị WTI nên việc giống nhau giữa các mốc thời gian là hoàn toàn có thể xảy ra, ta sẽ chỉ kiểm tra xem liệu có các ngày ghi nhận bị trùng nhau hay không."
   ]
  },
  {
   "cell_type": "code",
   "execution_count": 7,
   "metadata": {},
   "outputs": [
    {
     "data": {
      "text/plain": [
       "0"
      ]
     },
     "execution_count": 7,
     "metadata": {},
     "output_type": "execute_result"
    }
   ],
   "source": [
    "df.index.duplicated().sum()"
   ]
  },
  {
   "cell_type": "markdown",
   "metadata": {},
   "source": [
    "Vậy là không có các tuần ghi nhận bị trùng nhau trong tập dữ liệu."
   ]
  },
  {
   "cell_type": "markdown",
   "metadata": {},
   "source": [
    "## Đưa ra câu hỏi cần trả lời"
   ]
  },
  {
   "cell_type": "markdown",
   "metadata": {},
   "source": [
    "Dữ liệu của chúng ta cũng không có quá nhiều thuộc tính để xem xét. Dựa vào ý nghĩa của dữ liệu, câu hỏi được đặt ra sẽ là: Giá trị WTI của tuần này tăng hay giảm so với hôm qua được tính như thế nào từ giá trị WTI của 3 tuần giao dịch trước đó.\n",
    "\n",
    "Với những thông tin cần thiết để trả lời câu hỏi sẽ do ta tự xây dựng với ý tưởng như sau:\n",
    "\n",
    "- Dùng phương thức `shift` của thư viện `pandas` để dịch giá trị của các tuần xuống `i` đơn vị và tạo thành một thuộc tính mới là giá trị của `i` tuần giao dịch trước đó.\n",
    "    \n",
    "- Trạng thái tăng hay giảm giá sẽ được lưu vào thuộc tính `state` được tính bằng cách so sánh giá được ghi nhận của 1 tuần và tuần trước đó.\n",
    "\n",
    "- Loại bỏ cột `value` là giá trị WTI của tuần hiện tại.\n",
    "\n",
    "Cài đặt cụ thể sẽ như hàm `build_table` bên dưới với 2 tham số:\n",
    "\n",
    "- df: Dữ liệu về giá trị WTI được ghi nhận theo tuần.\n",
    "- weeks: Số tuần giao dịch trước đó mà ta muốn sử dụng để tính được việc tăng hay giảm giá của tuần này so với tuần trước (Do câu hỏi nên ở đây mặc định sẽ là 3 tuần)."
   ]
  },
  {
   "cell_type": "code",
   "execution_count": 8,
   "metadata": {},
   "outputs": [],
   "source": [
    "def build_table(df, weeks=3):\n",
    "    temp = df.copy()\n",
    "    for i in range(1,weeks+1):\n",
    "        temp['value_{}_trading_week(s)_ago'.format(i)] = df['value'].shift(i)\n",
    "    temp['state'] = (temp['value']>temp['value_1_trading_week(s)_ago']).map({True:'increase',False:'decrease'})\n",
    "    temp.drop('value',axis=1,inplace=True)\n",
    "    temp.dropna(inplace=True)\n",
    "    return temp"
   ]
  },
  {
   "cell_type": "markdown",
   "metadata": {},
   "source": [
    "Do việc dời giá trị xuống 3 đơn vị nên 3 tuần đầu tiên khi bắt đầu ghi nhận giá trị sẽ không đầy đủ dữ liệu để huấn luyện nên ta sẽ loại bỏ 3 dòng giá trị này và giá trị bắt đầu sẽ là từ 24-01-1986. Ở đây, ta sẽ lưu bảng xây dựng được vào biến `data_df`."
   ]
  },
  {
   "cell_type": "code",
   "execution_count": 9,
   "metadata": {},
   "outputs": [
    {
     "data": {
      "text/html": [
       "<div>\n",
       "<style scoped>\n",
       "    .dataframe tbody tr th:only-of-type {\n",
       "        vertical-align: middle;\n",
       "    }\n",
       "\n",
       "    .dataframe tbody tr th {\n",
       "        vertical-align: top;\n",
       "    }\n",
       "\n",
       "    .dataframe thead th {\n",
       "        text-align: right;\n",
       "    }\n",
       "</style>\n",
       "<table border=\"1\" class=\"dataframe\">\n",
       "  <thead>\n",
       "    <tr style=\"text-align: right;\">\n",
       "      <th></th>\n",
       "      <th>value_1_trading_week(s)_ago</th>\n",
       "      <th>value_2_trading_week(s)_ago</th>\n",
       "      <th>value_3_trading_week(s)_ago</th>\n",
       "      <th>state</th>\n",
       "    </tr>\n",
       "    <tr>\n",
       "      <th>period</th>\n",
       "      <th></th>\n",
       "      <th></th>\n",
       "      <th></th>\n",
       "      <th></th>\n",
       "    </tr>\n",
       "  </thead>\n",
       "  <tbody>\n",
       "    <tr>\n",
       "      <th>1986-01-24</th>\n",
       "      <td>24.57</td>\n",
       "      <td>25.99</td>\n",
       "      <td>25.78</td>\n",
       "      <td>decrease</td>\n",
       "    </tr>\n",
       "    <tr>\n",
       "      <th>1986-01-31</th>\n",
       "      <td>20.31</td>\n",
       "      <td>24.57</td>\n",
       "      <td>25.99</td>\n",
       "      <td>decrease</td>\n",
       "    </tr>\n",
       "    <tr>\n",
       "      <th>1986-02-07</th>\n",
       "      <td>19.69</td>\n",
       "      <td>20.31</td>\n",
       "      <td>24.57</td>\n",
       "      <td>decrease</td>\n",
       "    </tr>\n",
       "    <tr>\n",
       "      <th>1986-02-14</th>\n",
       "      <td>16.72</td>\n",
       "      <td>19.69</td>\n",
       "      <td>20.31</td>\n",
       "      <td>decrease</td>\n",
       "    </tr>\n",
       "    <tr>\n",
       "      <th>1986-02-21</th>\n",
       "      <td>16.25</td>\n",
       "      <td>16.72</td>\n",
       "      <td>19.69</td>\n",
       "      <td>decrease</td>\n",
       "    </tr>\n",
       "  </tbody>\n",
       "</table>\n",
       "</div>"
      ],
      "text/plain": [
       "            value_1_trading_week(s)_ago  value_2_trading_week(s)_ago  \\\n",
       "period                                                                 \n",
       "1986-01-24                        24.57                        25.99   \n",
       "1986-01-31                        20.31                        24.57   \n",
       "1986-02-07                        19.69                        20.31   \n",
       "1986-02-14                        16.72                        19.69   \n",
       "1986-02-21                        16.25                        16.72   \n",
       "\n",
       "            value_3_trading_week(s)_ago     state  \n",
       "period                                             \n",
       "1986-01-24                        25.78  decrease  \n",
       "1986-01-31                        25.99  decrease  \n",
       "1986-02-07                        24.57  decrease  \n",
       "1986-02-14                        20.31  decrease  \n",
       "1986-02-21                        19.69  decrease  "
      ]
     },
     "execution_count": 9,
     "metadata": {},
     "output_type": "execute_result"
    }
   ],
   "source": [
    "data_df = build_table(df)\n",
    "data_df.head()"
   ]
  },
  {
   "cell_type": "markdown",
   "metadata": {},
   "source": [
    "## Khám phá dữ liệu (để biết cách tách tập)"
   ]
  },
  {
   "cell_type": "markdown",
   "metadata": {},
   "source": [
    "Khám phá đồng thời kiểm tra xem hàm `build_table` có được định nghĩa đúng đắn để xây dựng tập dữ liệu cần thiết để trả lời cho câu hỏi của ta hay không?"
   ]
  },
  {
   "cell_type": "code",
   "execution_count": 10,
   "metadata": {},
   "outputs": [
    {
     "data": {
      "text/plain": [
       "value_1_trading_week(s)_ago    0\n",
       "value_2_trading_week(s)_ago    0\n",
       "value_3_trading_week(s)_ago    0\n",
       "state                          0\n",
       "dtype: int64"
      ]
     },
     "execution_count": 10,
     "metadata": {},
     "output_type": "execute_result"
    }
   ],
   "source": [
    "#Có cột nào bị thiếu giá trị không?\n",
    "data_df.isna().sum()"
   ]
  },
  {
   "cell_type": "code",
   "execution_count": 11,
   "metadata": {},
   "outputs": [
    {
     "data": {
      "text/plain": [
       "value_1_trading_week(s)_ago    float64\n",
       "value_2_trading_week(s)_ago    float64\n",
       "value_3_trading_week(s)_ago    float64\n",
       "state                           object\n",
       "dtype: object"
      ]
     },
     "execution_count": 11,
     "metadata": {},
     "output_type": "execute_result"
    }
   ],
   "source": [
    "#Các cột có kiểu dữ liệu gì?\n",
    "data_df.dtypes"
   ]
  },
  {
   "cell_type": "code",
   "execution_count": 12,
   "metadata": {},
   "outputs": [
    {
     "data": {
      "text/plain": [
       "array(['decrease', 'increase'], dtype=object)"
      ]
     },
     "execution_count": 12,
     "metadata": {},
     "output_type": "execute_result"
    }
   ],
   "source": [
    "#Cột output bao gồm những giá trị nào?\n",
    "data_df['state'].unique()"
   ]
  },
  {
   "cell_type": "code",
   "execution_count": 13,
   "metadata": {},
   "outputs": [
    {
     "data": {
      "text/plain": [
       "0"
      ]
     },
     "execution_count": 13,
     "metadata": {},
     "output_type": "execute_result"
    }
   ],
   "source": [
    "#Cột output có giá trị thiếu không?\n",
    "data_df['state'].isna().sum()"
   ]
  },
  {
   "cell_type": "markdown",
   "metadata": {},
   "source": [
    "Có thể thấy cột output không có giá trị thiếu và chứa 2 giá trị duy nhất ở dạng chuỗi. Vậy hàm `build_table` đã xây dựng được tập dữ liệu cần thiết và cột output cũng đạt yêu cầu để thực hiện huấn luyện mô hình."
   ]
  },
  {
   "cell_type": "markdown",
   "metadata": {},
   "source": [
    "### Trực quan hóa dữ liệu (Để có được kỳ vọng ban đầu về mô hình)"
   ]
  },
  {
   "cell_type": "code",
   "execution_count": 14,
   "metadata": {},
   "outputs": [
    {
     "data": {
      "text/plain": [
       "<AxesSubplot:xlabel='period'>"
      ]
     },
     "execution_count": 14,
     "metadata": {},
     "output_type": "execute_result"
    },
    {
     "data": {
      "image/png": "[encoded data removed]",
      "text/plain": [
       "<Figure size 864x360 with 1 Axes>"
      ]
     },
     "metadata": {
      "needs_background": "light"
     },
     "output_type": "display_data"
    }
   ],
   "source": [
    "df.plot(figsize=(12, 5))"
   ]
  },
  {
   "cell_type": "markdown",
   "metadata": {},
   "source": [
    "Từ đồ thị cho, ta dễ dàng thấy được đường biểu diễn giá trị có dạng răng cưa chi chít, chứng tỏ giá trị thay đổi rất thường xuyên về xu hướng tăng giảm. Có thể bước đầu nhận định mô hình sẽ khó có thể dự đoán đúng được kết quả."
   ]
  },
  {
   "cell_type": "markdown",
   "metadata": {},
   "source": [
    "## Phân tách các tập dữ liệu"
   ]
  },
  {
   "cell_type": "markdown",
   "metadata": {},
   "source": [
    "Với câu hỏi ban đầu và bảng xây dựng được, mỗi dòng dữ liệu là 1 tuần giao dịch chứa các thuộc tính là giá trị của 3 tuần giao dịch trước đó và trạng thái tăng giảm giá trị của tuần đó so với tuần trước, ta không cần phải duy trì thứ tự thời gian của tập dữ liệu mà ta có thể lấy ngẫu nhiên các dòng dữ liệu để xây dựng các tập train, validation và test."
   ]
  },
  {
   "cell_type": "code",
   "execution_count": 15,
   "metadata": {},
   "outputs": [],
   "source": [
    "y_sr = data_df['state']\n",
    "X_df = data_df.drop('state',axis=1)"
   ]
  },
  {
   "cell_type": "code",
   "execution_count": 16,
   "metadata": {},
   "outputs": [],
   "source": [
    "#Chia train, validation, test theo tỉ lệ 60%:20%:20%\n",
    "train_val_X_df, test_X_df, train_val_y_sr , test_y_sr = train_test_split(X_df, y_sr, test_size=0.2, random_state=0, stratify=y_sr)\n",
    "train_X_df, val_X_df, train_y_sr, val_y_sr = train_test_split(train_val_X_df, train_val_y_sr, test_size=0.25, random_state=0, stratify=train_val_y_sr)"
   ]
  },
  {
   "cell_type": "code",
   "execution_count": 17,
   "metadata": {},
   "outputs": [
    {
     "data": {
      "text/plain": [
       "(1094, 3)"
      ]
     },
     "execution_count": 17,
     "metadata": {},
     "output_type": "execute_result"
    }
   ],
   "source": [
    "train_X_df.shape"
   ]
  },
  {
   "cell_type": "code",
   "execution_count": 18,
   "metadata": {},
   "outputs": [
    {
     "data": {
      "text/plain": [
       "(1094,)"
      ]
     },
     "execution_count": 18,
     "metadata": {},
     "output_type": "execute_result"
    }
   ],
   "source": [
    "train_y_sr.shape"
   ]
  },
  {
   "cell_type": "code",
   "execution_count": 19,
   "metadata": {},
   "outputs": [
    {
     "data": {
      "text/plain": [
       "(365, 3)"
      ]
     },
     "execution_count": 19,
     "metadata": {},
     "output_type": "execute_result"
    }
   ],
   "source": [
    "val_X_df.shape"
   ]
  },
  {
   "cell_type": "code",
   "execution_count": 20,
   "metadata": {},
   "outputs": [
    {
     "data": {
      "text/plain": [
       "(365,)"
      ]
     },
     "execution_count": 20,
     "metadata": {},
     "output_type": "execute_result"
    }
   ],
   "source": [
    "val_y_sr.shape"
   ]
  },
  {
   "cell_type": "code",
   "execution_count": 20,
   "metadata": {},
   "outputs": [
    {
     "data": {
      "text/plain": [
       "(365, 3)"
      ]
     },
     "execution_count": 20,
     "metadata": {},
     "output_type": "execute_result"
    }
   ],
   "source": [
    "test_X_df.shape"
   ]
  },
  {
   "cell_type": "code",
   "execution_count": 21,
   "metadata": {},
   "outputs": [
    {
     "data": {
      "text/plain": [
       "(365,)"
      ]
     },
     "execution_count": 21,
     "metadata": {},
     "output_type": "execute_result"
    }
   ],
   "source": [
    "test_y_sr.shape"
   ]
  },
  {
   "cell_type": "markdown",
   "metadata": {},
   "source": [
    "## Tiền xử lý"
   ]
  },
  {
   "cell_type": "markdown",
   "metadata": {},
   "source": [
    "Giả thiết đặt ra là giá trị WTI sẽ luôn xoay quanh một mức trung bình tại một khoảng thời gian nhất định. Vì vậy, ta sẽ tính toán thêm một cột giá trị trung bình của 3 tuần trước đó là cột `Average_3_weeks_before` với kỳ vọng rằng giá trị này sẽ hỗ trợ cho việc mô hình hóa dữ liệu trở nên tốt hơn."
   ]
  },
  {
   "cell_type": "code",
   "execution_count": 26,
   "metadata": {},
   "outputs": [],
   "source": [
    "class Mean3WeeksColAdder(BaseEstimator, TransformerMixin):\n",
    "    def fit(self, X_df, y=None):\n",
    "        return self\n",
    "    def transform(self, X_df, y=None):\n",
    "        mean_col = X_df.mean(axis=1)\n",
    "        return pd.concat([mean_col.to_frame('Average_3_weeks_before'),X_df],axis=1)"
   ]
  },
  {
   "cell_type": "markdown",
   "metadata": {},
   "source": [
    "### Tiền xử lý tập huấn luyện"
   ]
  },
  {
   "cell_type": "code",
   "execution_count": 27,
   "metadata": {},
   "outputs": [
    {
     "data": {
      "text/html": [
       "<div>\n",
       "<style scoped>\n",
       "    .dataframe tbody tr th:only-of-type {\n",
       "        vertical-align: middle;\n",
       "    }\n",
       "\n",
       "    .dataframe tbody tr th {\n",
       "        vertical-align: top;\n",
       "    }\n",
       "\n",
       "    .dataframe thead th {\n",
       "        text-align: right;\n",
       "    }\n",
       "</style>\n",
       "<table border=\"1\" class=\"dataframe\">\n",
       "  <thead>\n",
       "    <tr style=\"text-align: right;\">\n",
       "      <th></th>\n",
       "      <th>Average_3_weeks_before</th>\n",
       "      <th>value_1_trading_week(s)_ago</th>\n",
       "      <th>value_2_trading_week(s)_ago</th>\n",
       "      <th>value_3_trading_week(s)_ago</th>\n",
       "    </tr>\n",
       "    <tr>\n",
       "      <th>period</th>\n",
       "      <th></th>\n",
       "      <th></th>\n",
       "      <th></th>\n",
       "      <th></th>\n",
       "    </tr>\n",
       "  </thead>\n",
       "  <tbody>\n",
       "    <tr>\n",
       "      <th>1996-04-19</th>\n",
       "      <td>22.823333</td>\n",
       "      <td>23.95</td>\n",
       "      <td>22.49</td>\n",
       "      <td>22.03</td>\n",
       "    </tr>\n",
       "    <tr>\n",
       "      <th>2004-01-23</th>\n",
       "      <td>33.693333</td>\n",
       "      <td>34.51</td>\n",
       "      <td>33.89</td>\n",
       "      <td>32.68</td>\n",
       "    </tr>\n",
       "    <tr>\n",
       "      <th>2012-04-20</th>\n",
       "      <td>103.730000</td>\n",
       "      <td>102.55</td>\n",
       "      <td>103.52</td>\n",
       "      <td>105.12</td>\n",
       "    </tr>\n",
       "    <tr>\n",
       "      <th>2020-05-15</th>\n",
       "      <td>14.163333</td>\n",
       "      <td>23.46</td>\n",
       "      <td>15.71</td>\n",
       "      <td>3.32</td>\n",
       "    </tr>\n",
       "    <tr>\n",
       "      <th>1991-07-05</th>\n",
       "      <td>20.043333</td>\n",
       "      <td>20.21</td>\n",
       "      <td>20.08</td>\n",
       "      <td>19.84</td>\n",
       "    </tr>\n",
       "    <tr>\n",
       "      <th>...</th>\n",
       "      <td>...</td>\n",
       "      <td>...</td>\n",
       "      <td>...</td>\n",
       "      <td>...</td>\n",
       "    </tr>\n",
       "    <tr>\n",
       "      <th>1989-09-22</th>\n",
       "      <td>19.293333</td>\n",
       "      <td>19.80</td>\n",
       "      <td>19.31</td>\n",
       "      <td>18.77</td>\n",
       "    </tr>\n",
       "    <tr>\n",
       "      <th>1998-06-19</th>\n",
       "      <td>14.476667</td>\n",
       "      <td>13.42</td>\n",
       "      <td>15.02</td>\n",
       "      <td>14.99</td>\n",
       "    </tr>\n",
       "    <tr>\n",
       "      <th>2018-11-09</th>\n",
       "      <td>67.576667</td>\n",
       "      <td>65.06</td>\n",
       "      <td>67.43</td>\n",
       "      <td>70.24</td>\n",
       "    </tr>\n",
       "    <tr>\n",
       "      <th>2007-09-28</th>\n",
       "      <td>79.056667</td>\n",
       "      <td>82.26</td>\n",
       "      <td>78.95</td>\n",
       "      <td>75.96</td>\n",
       "    </tr>\n",
       "    <tr>\n",
       "      <th>1992-06-05</th>\n",
       "      <td>21.090000</td>\n",
       "      <td>21.98</td>\n",
       "      <td>20.49</td>\n",
       "      <td>20.80</td>\n",
       "    </tr>\n",
       "  </tbody>\n",
       "</table>\n",
       "<p>1094 rows × 4 columns</p>\n",
       "</div>"
      ],
      "text/plain": [
       "            Average_3_weeks_before  value_1_trading_week(s)_ago  \\\n",
       "period                                                            \n",
       "1996-04-19               22.823333                        23.95   \n",
       "2004-01-23               33.693333                        34.51   \n",
       "2012-04-20              103.730000                       102.55   \n",
       "2020-05-15               14.163333                        23.46   \n",
       "1991-07-05               20.043333                        20.21   \n",
       "...                            ...                          ...   \n",
       "1989-09-22               19.293333                        19.80   \n",
       "1998-06-19               14.476667                        13.42   \n",
       "2018-11-09               67.576667                        65.06   \n",
       "2007-09-28               79.056667                        82.26   \n",
       "1992-06-05               21.090000                        21.98   \n",
       "\n",
       "            value_2_trading_week(s)_ago  value_3_trading_week(s)_ago  \n",
       "period                                                                \n",
       "1996-04-19                        22.49                        22.03  \n",
       "2004-01-23                        33.89                        32.68  \n",
       "2012-04-20                       103.52                       105.12  \n",
       "2020-05-15                        15.71                         3.32  \n",
       "1991-07-05                        20.08                        19.84  \n",
       "...                                 ...                          ...  \n",
       "1989-09-22                        19.31                        18.77  \n",
       "1998-06-19                        15.02                        14.99  \n",
       "2018-11-09                        67.43                        70.24  \n",
       "2007-09-28                        78.95                        75.96  \n",
       "1992-06-05                        20.49                        20.80  \n",
       "\n",
       "[1094 rows x 4 columns]"
      ]
     },
     "execution_count": 27,
     "metadata": {},
     "output_type": "execute_result"
    }
   ],
   "source": [
    "coladder = Mean3WeeksColAdder()\n",
    "coladder.transform(train_X_df)"
   ]
  },
  {
   "cell_type": "code",
   "execution_count": 31,
   "metadata": {},
   "outputs": [
    {
     "data": {
      "text/plain": [
       "Average_3_weeks_before         0\n",
       "value_1_trading_week(s)_ago    0\n",
       "value_2_trading_week(s)_ago    0\n",
       "value_3_trading_week(s)_ago    0\n",
       "dtype: int64"
      ]
     },
     "execution_count": 31,
     "metadata": {},
     "output_type": "execute_result"
    }
   ],
   "source": [
    "coladder.transform(train_X_df).isna().sum()"
   ]
  },
  {
   "cell_type": "markdown",
   "metadata": {},
   "source": [
    "Việc tính toán cột trung bình không xảy ra điều gì bất thường."
   ]
  },
  {
   "cell_type": "markdown",
   "metadata": {},
   "source": [
    "### Tiền xử lý tập validation"
   ]
  },
  {
   "cell_type": "markdown",
   "metadata": {},
   "source": [
    "Dữ liệu giá trị theo thời gian là một dạng dữ liệu khá đặc biệt sẽ không tồn tại các giá trị thiếu. Chẳng hạn, nếu xảy ra một sự cố nào đó một ngày không thể giao dịch thì giá trị được ghi nhận của hôm đó sẽ là giá trị của lần cuối cùng được ghi nhận. Nên việc tính toán trung bình ở tập validation hay tập test là hoàn toàn có khả năng."
   ]
  },
  {
   "cell_type": "code",
   "execution_count": 32,
   "metadata": {},
   "outputs": [
    {
     "data": {
      "text/html": [
       "<div>\n",
       "<style scoped>\n",
       "    .dataframe tbody tr th:only-of-type {\n",
       "        vertical-align: middle;\n",
       "    }\n",
       "\n",
       "    .dataframe tbody tr th {\n",
       "        vertical-align: top;\n",
       "    }\n",
       "\n",
       "    .dataframe thead th {\n",
       "        text-align: right;\n",
       "    }\n",
       "</style>\n",
       "<table border=\"1\" class=\"dataframe\">\n",
       "  <thead>\n",
       "    <tr style=\"text-align: right;\">\n",
       "      <th></th>\n",
       "      <th>Average_3_weeks_before</th>\n",
       "      <th>value_1_trading_week(s)_ago</th>\n",
       "      <th>value_2_trading_week(s)_ago</th>\n",
       "      <th>value_3_trading_week(s)_ago</th>\n",
       "    </tr>\n",
       "    <tr>\n",
       "      <th>period</th>\n",
       "      <th></th>\n",
       "      <th></th>\n",
       "      <th></th>\n",
       "      <th></th>\n",
       "    </tr>\n",
       "  </thead>\n",
       "  <tbody>\n",
       "    <tr>\n",
       "      <th>1987-07-03</th>\n",
       "      <td>20.156667</td>\n",
       "      <td>20.21</td>\n",
       "      <td>20.38</td>\n",
       "      <td>19.88</td>\n",
       "    </tr>\n",
       "    <tr>\n",
       "      <th>1990-12-28</th>\n",
       "      <td>27.223333</td>\n",
       "      <td>27.56</td>\n",
       "      <td>26.39</td>\n",
       "      <td>27.72</td>\n",
       "    </tr>\n",
       "    <tr>\n",
       "      <th>2019-12-06</th>\n",
       "      <td>57.273333</td>\n",
       "      <td>58.07</td>\n",
       "      <td>56.90</td>\n",
       "      <td>56.85</td>\n",
       "    </tr>\n",
       "    <tr>\n",
       "      <th>2013-03-15</th>\n",
       "      <td>92.523333</td>\n",
       "      <td>91.00</td>\n",
       "      <td>92.19</td>\n",
       "      <td>94.38</td>\n",
       "    </tr>\n",
       "    <tr>\n",
       "      <th>1994-03-04</th>\n",
       "      <td>14.480000</td>\n",
       "      <td>14.44</td>\n",
       "      <td>14.13</td>\n",
       "      <td>14.87</td>\n",
       "    </tr>\n",
       "    <tr>\n",
       "      <th>...</th>\n",
       "      <td>...</td>\n",
       "      <td>...</td>\n",
       "      <td>...</td>\n",
       "      <td>...</td>\n",
       "    </tr>\n",
       "    <tr>\n",
       "      <th>2004-07-02</th>\n",
       "      <td>37.850000</td>\n",
       "      <td>37.70</td>\n",
       "      <td>37.86</td>\n",
       "      <td>37.99</td>\n",
       "    </tr>\n",
       "    <tr>\n",
       "      <th>2019-02-08</th>\n",
       "      <td>52.810000</td>\n",
       "      <td>53.63</td>\n",
       "      <td>52.88</td>\n",
       "      <td>51.92</td>\n",
       "    </tr>\n",
       "    <tr>\n",
       "      <th>1999-03-12</th>\n",
       "      <td>12.306667</td>\n",
       "      <td>12.90</td>\n",
       "      <td>12.36</td>\n",
       "      <td>11.66</td>\n",
       "    </tr>\n",
       "    <tr>\n",
       "      <th>2012-02-17</th>\n",
       "      <td>98.570000</td>\n",
       "      <td>98.56</td>\n",
       "      <td>97.80</td>\n",
       "      <td>99.35</td>\n",
       "    </tr>\n",
       "    <tr>\n",
       "      <th>1998-05-15</th>\n",
       "      <td>15.230000</td>\n",
       "      <td>15.48</td>\n",
       "      <td>15.71</td>\n",
       "      <td>14.50</td>\n",
       "    </tr>\n",
       "  </tbody>\n",
       "</table>\n",
       "<p>365 rows × 4 columns</p>\n",
       "</div>"
      ],
      "text/plain": [
       "            Average_3_weeks_before  value_1_trading_week(s)_ago  \\\n",
       "period                                                            \n",
       "1987-07-03               20.156667                        20.21   \n",
       "1990-12-28               27.223333                        27.56   \n",
       "2019-12-06               57.273333                        58.07   \n",
       "2013-03-15               92.523333                        91.00   \n",
       "1994-03-04               14.480000                        14.44   \n",
       "...                            ...                          ...   \n",
       "2004-07-02               37.850000                        37.70   \n",
       "2019-02-08               52.810000                        53.63   \n",
       "1999-03-12               12.306667                        12.90   \n",
       "2012-02-17               98.570000                        98.56   \n",
       "1998-05-15               15.230000                        15.48   \n",
       "\n",
       "            value_2_trading_week(s)_ago  value_3_trading_week(s)_ago  \n",
       "period                                                                \n",
       "1987-07-03                        20.38                        19.88  \n",
       "1990-12-28                        26.39                        27.72  \n",
       "2019-12-06                        56.90                        56.85  \n",
       "2013-03-15                        92.19                        94.38  \n",
       "1994-03-04                        14.13                        14.87  \n",
       "...                                 ...                          ...  \n",
       "2004-07-02                        37.86                        37.99  \n",
       "2019-02-08                        52.88                        51.92  \n",
       "1999-03-12                        12.36                        11.66  \n",
       "2012-02-17                        97.80                        99.35  \n",
       "1998-05-15                        15.71                        14.50  \n",
       "\n",
       "[365 rows x 4 columns]"
      ]
     },
     "execution_count": 32,
     "metadata": {},
     "output_type": "execute_result"
    }
   ],
   "source": [
    "coladder.transform(val_X_df)"
   ]
  },
  {
   "cell_type": "markdown",
   "metadata": {},
   "source": [
    "### Một số đánh giá"
   ]
  },
  {
   "cell_type": "markdown",
   "metadata": {},
   "source": [
    "- Dữ liệu timeseries của chỉ số WTI này không có quá nhiều điều cần phải thực hiện khi tiền xử lý.\n",
    "- Giá trị này luôn thay đổi tăng giảm theo thời gian, những ngày ghi nhận đầu là lúc kinh tế chưa phát triển giá trị sẽ thấp và hiện tại thì sẽ cao hơn. Đồng thời, chúng ta cũng đã chia tập dữ liệu một cách ngẫu nhiên ngày tháng năm không theo trình tự thời gian, do đó **giá trị của các cột dữ liệu** sẽ không có phân phối quanh một giá trị trung bình nên ở đây ta sẽ không dùng `StandardScaler`."
   ]
  },
  {
   "cell_type": "markdown",
   "metadata": {},
   "source": [
    "## Mô hình hóa"
   ]
  },
  {
   "cell_type": "markdown",
   "metadata": {},
   "source": [
    "Ta sẽ sử dụng mô hình Neural Network để phân lớp. Đầu tiên, chúng ta sẽ tạo một pipeline gồm 2 bước:\n",
    "- Bước 1: Tiền xử lý, tính giá trị trung bình của 3 tuần giao dịch trước.\n",
    "- Bước 2: Thực hiện mô hình hóa bằng Neural Network.\n",
    "\n",
    "Mô hình Neural Network được chọn ở đây sẽ có các siêu tham số đầu vào (`activation ='relu', solver='lgfbs', max_iter=2500, random_state = 0`).\n",
    "\n",
    "Sau khi chọn các siêu tham số như trên, ta sẽ có một số thử nghiệm:\n",
    "- Siêu tham số alpha với 5 giá trị khác nhau: 0.0001, 0.01, 1, 10, 100.\n",
    "- "
   ]
  },
  {
   "cell_type": "code",
   "execution_count": 87,
   "metadata": {},
   "outputs": [],
   "source": [
    "estimator = MLPClassifier(activation='relu', solver='lbfgs', max_iter=2500, random_state=0)"
   ]
  },
  {
   "cell_type": "code",
   "execution_count": 88,
   "metadata": {},
   "outputs": [],
   "source": [
    "train_errs = []\n",
    "val_errs = []\n",
    "layer_sizes = [10,20,50,100]\n",
    "alphas = [0.0001, 0.01, 1, 10, 100]\n",
    "for layer_size in layer_sizes:\n",
    "    for alpha in alphas:\n",
    "        estimator.set_params(hidden_layer_sizes=(layer_size),alpha=alpha)\n",
    "        estimator.fit(train_X_df, train_y_sr)\n",
    "        train_errs.append((1-estimator.score(train_X_df,train_y_sr))*100)\n",
    "        val_errs.append((1-estimator.score(val_X_df,val_y_sr))*100)"
   ]
  },
  {
   "cell_type": "code",
   "execution_count": 89,
   "metadata": {},
   "outputs": [
    {
     "data": {
      "text/plain": [
       "[42.413162705667276,\n",
       " 42.413162705667276,\n",
       " 42.413162705667276,\n",
       " 42.413162705667276,\n",
       " 42.321755027422306,\n",
       " 42.230347349177336,\n",
       " 42.413162705667276,\n",
       " 42.04753199268738,\n",
       " 41.59049360146252,\n",
       " 41.95612431444241,\n",
       " 42.04753199268738,\n",
       " 41.224862888482626,\n",
       " 41.95612431444241,\n",
       " 41.95612431444241,\n",
       " 41.95612431444241,\n",
       " 41.6819012797075,\n",
       " 42.59597806215722,\n",
       " 40.95063985374772,\n",
       " 42.413162705667276,\n",
       " 42.87020109689214,\n",
       " 42.413162705667276,\n",
       " 42.77879341864717,\n",
       " 42.59597806215722,\n",
       " 42.230347349177336]"
      ]
     },
     "execution_count": 89,
     "metadata": {},
     "output_type": "execute_result"
    }
   ],
   "source": [
    "train_errs"
   ]
  },
  {
   "cell_type": "code",
   "execution_count": 90,
   "metadata": {},
   "outputs": [
    {
     "data": {
      "text/plain": [
       "[41.0958904109589,\n",
       " 41.0958904109589,\n",
       " 41.0958904109589,\n",
       " 41.0958904109589,\n",
       " 41.917808219178085,\n",
       " 41.917808219178085,\n",
       " 41.64383561643835,\n",
       " 41.917808219178085,\n",
       " 41.36986301369863,\n",
       " 41.36986301369863,\n",
       " 42.19178082191781,\n",
       " 40.821917808219176,\n",
       " 41.917808219178085,\n",
       " 41.0958904109589,\n",
       " 41.917808219178085,\n",
       " 41.64383561643835,\n",
       " 42.465753424657535,\n",
       " 40.273972602739725,\n",
       " 41.0958904109589,\n",
       " 41.917808219178085,\n",
       " 41.36986301369863,\n",
       " 41.0958904109589,\n",
       " 41.917808219178085,\n",
       " 42.73972602739726]"
      ]
     },
     "execution_count": 90,
     "metadata": {},
     "output_type": "execute_result"
    }
   ],
   "source": [
    "val_errs"
   ]
  },
  {
   "cell_type": "code",
   "execution_count": null,
   "metadata": {},
   "outputs": [],
   "source": []
  }
 ],
 "metadata": {
  "kernelspec": {
   "display_name": "Python 3",
   "language": "python",
   "name": "python3"
  },
  "language_info": {
   "codemirror_mode": {
    "name": "ipython",
    "version": 3
   },
   "file_extension": ".py",
   "mimetype": "text/x-python",
   "name": "python",
   "nbconvert_exporter": "python",
   "pygments_lexer": "ipython3",
   "version": "3.8.5"
  }
 },
 "nbformat": 4,
 "nbformat_minor": 4
}
