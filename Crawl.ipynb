{
 "cells": [
  {
   "cell_type": "code",
   "execution_count": 1,
   "metadata": {},
   "outputs": [],
   "source": [
    "import requests\n",
    "from bs4 import BeautifulSoup\n",
    "import json\n",
    "import time\n",
    "import pandas as pd\n",
    "import datetime as dt\n",
    "import re\n",
    "import csv\n",
    "\n",
    "from selenium import webdriver\n",
    "from selenium.webdriver.common.keys import Keys"
   ]
  },
  {
   "cell_type": "code",
   "execution_count": 7,
   "metadata": {},
   "outputs": [],
   "source": [
    "browser = webdriver.Chrome(executable_path='./chromedriver.exe')\n",
    "browser.get('https://www.thegioididong.com/dtdd')\n",
    "try:  \n",
    "    for i in range(20):\n",
    "        browser.find_element_by_class_name(\"viewmore\").click()\n",
    "except:\n",
    "    try:  \n",
    "        for i in range(20):\n",
    "            browser.find_element_by_class_name(\"viewmore\").click()\n",
    "    except:\n",
    "        pass\n",
    "\n",
    "html_text = browser.page_source\n",
    "browser.quit()"
   ]
  },
  {
   "cell_type": "code",
   "execution_count": 8,
   "metadata": {},
   "outputs": [],
   "source": [
    "url = 'https://www.thegioididong.com/dtdd'\n",
    "#html_text = requests.get(url).text"
   ]
  },
  {
   "cell_type": "code",
   "execution_count": 9,
   "metadata": {},
   "outputs": [],
   "source": [
    "# Parse html\n",
    "tree = BeautifulSoup(html_text, 'html.parser')"
   ]
  },
  {
   "cell_type": "code",
   "execution_count": 10,
   "metadata": {},
   "outputs": [
    {
     "data": {
      "text/plain": [
       "178"
      ]
     },
     "execution_count": 10,
     "metadata": {},
     "output_type": "execute_result"
    }
   ],
   "source": [
    "items = tree.find_all('li', {'class': 'item'})\n",
    "len(items)\n"
   ]
  },
  {
   "cell_type": "code",
   "execution_count": 22,
   "metadata": {},
   "outputs": [],
   "source": [
    "url_list = []\n",
    "type_list = []\n",
    "price_list = []\n",
    "for item in items:\n",
    "    url = item.find('a', {'class': 'vertion2020'})['href']\n",
    "    real_url = f'https://www.thegioididong.com{url}'\n",
    "    url_list.append(real_url)\n",
    "    \n",
    "    price = item.find('div', {'class': 'price'})\n",
    "    price = price.text.split('\\n')[1]\n",
    "    price_list.append(price)\n",
    "    \n",
    "    type_ = item.find('input', {'class': 'spInfo'})['data-brand']\n",
    "    type_list.append(type_)"
   ]
  },
  {
   "cell_type": "code",
   "execution_count": 20,
   "metadata": {},
   "outputs": [
    {
     "name": "stdout",
     "output_type": "stream",
     "text": [
      "1\n",
      "2\n",
      "3\n",
      "4\n",
      "5\n",
      "6\n",
      "7\n",
      "8\n",
      "9\n",
      "10\n",
      "11\n",
      "12\n",
      "13\n",
      "14\n",
      "15\n",
      "16\n",
      "17\n",
      "18\n",
      "19\n",
      "20\n",
      "21\n",
      "22\n",
      "23\n",
      "24\n",
      "25\n",
      "26\n",
      "27\n",
      "28\n",
      "29\n",
      "30\n",
      "31\n",
      "32\n",
      "33\n",
      "34\n",
      "35\n",
      "36\n",
      "37\n",
      "38\n",
      "39\n",
      "40\n",
      "41\n",
      "42\n",
      "43\n",
      "44\n",
      "45\n",
      "46\n",
      "47\n",
      "48\n",
      "49\n",
      "50\n",
      "51\n",
      "52\n",
      "53\n",
      "54\n",
      "55\n",
      "56\n",
      "57\n",
      "58\n",
      "59\n",
      "60\n",
      "61\n",
      "62\n",
      "63\n",
      "64\n",
      "65\n",
      "66\n",
      "67\n",
      "68\n",
      "69\n",
      "70\n",
      "71\n",
      "72\n",
      "73\n",
      "74\n",
      "75\n",
      "76\n",
      "77\n",
      "78\n",
      "79\n"
     ]
    }
   ],
   "source": [
    "hdh_list = []\n",
    "man_hinh_list = []\n",
    "cam_sau_list = []\n",
    "cam_truoc_list = []\n",
    "cpu_list = []\n",
    "ram_list = []\n",
    "bo_nho_trong_list = []\n",
    "sim_list = []\n",
    "pin_list = []\n",
    "i=1\n",
    "for url in url_list:\n",
    "    print(i); i+=1\n",
    "    html_text = requests.get(url).text\n",
    "    tree = BeautifulSoup(html_text,'html.parser')\n",
    "    title = tree.find('ul', {'class': 'parameter'})\n",
    "    if(title):\n",
    "        man_hinh = title.find('li', {'class': 'g6459_79_77'})\n",
    "        man_hinh = man_hinh.text.split('hình:')[1]\n",
    "        man_hinh_list.append(man_hinh)\n",
    "        \n",
    "        hdh = title.find('li', {'class': 'g72'})\n",
    "        hdh = hdh.text.split(':')[1]\n",
    "        hdh_list.append(hdh)\n",
    "        \n",
    "        cam_sau = title.find('li', {'class': 'g27'})\n",
    "        cam_sau = cam_sau.text.split(':')[1]\n",
    "        cam_sau_list.append(cam_sau)\n",
    "\n",
    "        cam_truoc = title.find('li', {'class': 'g29'})\n",
    "        cam_truoc = cam_truoc.text.split(':')[1]\n",
    "        cam_truoc_list.append(cam_truoc)\n",
    "        \n",
    "        cpu = title.find('li', {'class': 'g6059'})\n",
    "        cpu = cpu.text.split(':')[1]\n",
    "        cpu_list.append(cpu)\n",
    "        \n",
    "        ram = title.find('li', {'class': 'g50'})\n",
    "        ram = ram.text.split(':')[1]\n",
    "        ram_list.append(ram)\n",
    "        \n",
    "        bo_nho_trong = title.find('li', {'class': 'g49'})\n",
    "        bo_nho_trong = bo_nho_trong.text.split(':')[1]\n",
    "        bo_nho_trong_list.append(bo_nho_trong)\n",
    "        \n",
    "        sim = title.find('li', {'class': 'g6339_7761'})\n",
    "        sim = sim.text.split(':')[1]\n",
    "        sim_list.append(sim)\n",
    "        \n",
    "        pin = title.find('li', {'class': 'g84_10882'})\n",
    "        pin = pin.text.split(':')[1]\n",
    "        pin_list.append(pin)\n",
    "        if i==80:\n",
    "            break"
   ]
  },
  {
   "cell_type": "code",
   "execution_count": 27,
   "metadata": {},
   "outputs": [],
   "source": [
    "dataset = pd.DataFrame({'Price':price_list[0:79],'Type':type_list[0:79],'Màn hình':man_hinh_list,'Hệ điều hành':hdh_list,\\\n",
    "                        'Camera sau':cam_sau_list,'Camera trước':cam_truoc_list,'CPU':cpu_list,'RAM':ram_list,\\\n",
    "                        'Bộ nhớ trong':bo_nho_trong_list,'Sim':sim_list,'Pin':pin_list})\n",
    "dataset\n",
    "dataset.to_csv('data.csv', index=False, encoding='utf-8-sig')"
   ]
  }
 ],
 "metadata": {
  "kernelspec": {
   "display_name": "Python 3",
   "language": "python",
   "name": "python3"
  },
  "language_info": {
   "codemirror_mode": {
    "name": "ipython",
    "version": 3
   },
   "file_extension": ".py",
   "mimetype": "text/x-python",
   "name": "python",
   "nbconvert_exporter": "python",
   "pygments_lexer": "ipython3",
   "version": "3.8.3"
  }
 },
 "nbformat": 4,
 "nbformat_minor": 4
}
